{
  "nbformat": 4,
  "nbformat_minor": 0,
  "metadata": {
    "colab": {
      "provenance": []
    },
    "kernelspec": {
      "name": "python3",
      "display_name": "Python 3"
    },
    "language_info": {
      "name": "python"
    }
  },
  "cells": [
    {
      "cell_type": "markdown",
      "source": [
        "[2] Write a program, in Python, to read an amount of currency in USD and the current exchange\n",
        "rate of USD to GBP. The program should output the corresponding amount in GBP."
      ],
      "metadata": {
        "id": "-TOj152pkuUT"
      }
    },
    {
      "cell_type": "code",
      "source": [
        "# -- getting the user input in the USD$ and the rate of conversion\n",
        "\n",
        "dollar = float(input(\"Enter the amount in USD $: \"))\n",
        "rate = float(input(\"Enter the current conversion rate from USD to GBP: \"))\n",
        "\n",
        "# -- defining the function to carry out the conversion\n",
        "\n",
        "def conversion_system(dollar,rate):\n",
        "  pound = (dollar)*(rate)\n",
        "  return pound\n",
        "\n",
        "# -- returning the final output\n",
        "\n",
        "finalprice = conversion_system(dollar, rate)\n",
        "print(\"The amount you entered in USD$ is: \", dollar)\n",
        "print(\"The amount in GBP is: £\", finalprice)\n"
      ],
      "metadata": {
        "colab": {
          "base_uri": "https://localhost:8080/"
        },
        "id": "Nr6HEd-ek3C9",
        "outputId": "3802b915-e76d-4ec1-bf63-8a0bbee54595"
      },
      "execution_count": null,
      "outputs": [
        {
          "output_type": "stream",
          "name": "stdout",
          "text": [
            "Enter the amount in USD $: 100\n",
            "Enter the current conversion rate from USD to GBP: 0.77\n",
            "The amount you entered in USD$ is:  100.0\n",
            "The amount in GBP is: £ 77.0\n"
          ]
        }
      ]
    },
    {
      "cell_type": "markdown",
      "source": [
        "[3] The Department of Computer Science and Digital Technologies (CDT) requires a Python\n",
        "program for the conversion of exam marks to grades. Write a program that will ask the user\n",
        "to input a module name and mark for the module. The program will then display the\n",
        "corresponding grade.\n",
        "\n",
        "Consider the following table for converting the marks to the corresponding grade.\n",
        "\n",
        "*   Greater than 70 marks   - A\n",
        "*   Between 60 and 70 marks - B\n",
        "*   Between 50 and 60 marks - C\n",
        "*   Between 40 and 50 marks - D\n",
        "*   Less than 40 marks      - F\n",
        "\n",
        "\n",
        "\n",
        "\n",
        "\n"
      ],
      "metadata": {
        "id": "zwdimTIs3SZY"
      }
    },
    {
      "cell_type": "code",
      "source": [
        "# -- welcome message\n",
        "print(\"Welcome to the Grade Checker\", \"\\n \\nBefore starting please read the following instructions carefully:\", \"\\n1. The marks should only be in numbers, they can be in decimals.\", \"\\n2. The marks should lie between 0-100  \\n\")\n",
        "# -- getting the user input for the name of the module and marks they received\n",
        "\n",
        "module = input(\"Please enter the name of the module: \")\n",
        "marks = input(\"Please enter the marks you received in this module: \\n(The marks should be between 1-100)  \")\n",
        "while type(marks) != float:\n",
        "  print(\" \\n!!!!! ERROR !!!!! \\a \\n\")\n",
        "  marks = float(input(\"\\nOnly numbers accepted! \\nPlease enter the marks you received in this module: \\n(The marks should be a number ranging between 1-100)  \"))\n",
        "marks = float(marks)\n",
        "while marks>100:\n",
        "  print(\" \\n!!!!! ERROR !!!!! \\a\")\n",
        "  print(\"--- invalid input, the marks should be in numbers and less than or equal to 100 ---\\n\")\n",
        "  marks = float(input(\"Please enter the marks again:  \"))\n",
        "\n",
        "# -- defining the function to convert marks to grades\n",
        "\n",
        "def grade_system(marks):\n",
        "  if marks <= 100 and marks >= 70:\n",
        "    print(\"Congratulations! you've secured GRADE-A\")\n",
        "  elif marks > 60 and marks < 70:\n",
        "    print(\"Congratulations! you've secured GRADE-B\")\n",
        "  elif marks > 50 and marks < 60:\n",
        "    print(\"Congratulations! you've secured GRADE-C\")\n",
        "  elif marks > 40 and marks < 50:\n",
        "    print(\"Congratulations! you've secured GRADE-D\")\n",
        "  elif marks < 40:\n",
        "    print(\"Regretfully you have failed this module. Better luck next time.\")\n",
        "\n",
        "# -- returning the final output\n",
        "\n",
        "print(module, \": \", marks)\n",
        "grade_system(marks)"
      ],
      "metadata": {
        "colab": {
          "base_uri": "https://localhost:8080/"
        },
        "id": "kyHNLR4r4BbX",
        "outputId": "e10f9e69-4a33-44cc-a4ec-71fd9201e8de"
      },
      "execution_count": null,
      "outputs": [
        {
          "output_type": "stream",
          "name": "stdout",
          "text": [
            "Welcome to the Grade Checker \n",
            " \n",
            "Before starting please read the following instructions carefully: \n",
            "1. The marks should only be in numbers, they can be in decimals. \n",
            "2. The marks should lie between 0-100  \n",
            "\n",
            "Please enter the name of the module: hjvj\n",
            "Please enter the marks you received in this module: \n",
            "(The marks should be between 1-100)  hvghv\n",
            " \n",
            "!!!!! ERROR !!!!! \u0007 \n",
            "\n",
            "\n",
            "Only numbers accepted! \n",
            "Please enter the marks you received in this module: \n",
            "(The marks should be a number ranging between 1-100)  897\n",
            " \n",
            "!!!!! ERROR !!!!! \u0007\n",
            "--- invalid input, the marks should be in numbers and less than or equal to 100 ---\n",
            "\n",
            "Please enter the marks again:  100\n",
            "hjvj :  100.0\n",
            "Congratulations! you've secured GRADE-A\n"
          ]
        }
      ]
    }
  ]
}