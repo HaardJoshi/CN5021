{
  "nbformat": 4,
  "nbformat_minor": 0,
  "metadata": {
    "colab": {
      "provenance": []
    },
    "kernelspec": {
      "name": "python3",
      "display_name": "Python 3"
    },
    "language_info": {
      "name": "python"
    }
  },
  "cells": [
    {
      "cell_type": "code",
      "source": [
        "#function definition is here\n",
        "def printme(str):\n",
        "  print (str)\n",
        "  return;\n",
        "\n",
        "printme(\"This is how we call the printme function\");"
      ],
      "metadata": {
        "colab": {
          "base_uri": "https://localhost:8080/"
        },
        "id": "3HIscPMn9tNm",
        "outputId": "23f13d91-3560-4cca-8373-b19b5a9b747d"
      },
      "execution_count": null,
      "outputs": [
        {
          "output_type": "stream",
          "name": "stdout",
          "text": [
            "This is how we call the printme function\n"
          ]
        }
      ]
    },
    {
      "cell_type": "code",
      "execution_count": null,
      "metadata": {
        "colab": {
          "base_uri": "https://localhost:8080/"
        },
        "id": "uhdS8Bz68i-Z",
        "outputId": "a9d8ec3c-f9ca-41d3-971d-c8c682939e4e"
      },
      "outputs": [
        {
          "name": "stdout",
          "output_type": "stream",
          "text": [
            "Enter you name: hard\n",
            "Do you want to continue?y\n",
            "Enter you name: hey\n",
            "Do you want to continue?n\n"
          ]
        }
      ],
      "source": [
        "#this function goes on until user wants to stop\n",
        "while(True):\n",
        "  new_name = input('Enter you name: ')\n",
        "  con_ask = input('Do you want to continue?')\n",
        "  if(con_ask == 'Y' or con_ask == 'y'):\n",
        "    continue;\n",
        "  else:\n",
        "    break;"
      ]
    },
    {
      "cell_type": "code",
      "source": [
        "#this function greets people\n",
        "def greet (name):\n",
        "  print('Happy Diwali', person, '. Take care!')\n",
        "\n",
        "person = input(\"Enter the name of the person you want to greet: \")\n",
        "\n",
        "while(True):\n",
        "  greet(person);\n",
        "  ask = input('Do you want to continue?')\n",
        "  if(ask == 'Y' or ask == 'y'):\n",
        "    person = input(\"Enter the name of the person you want to greet: \")\n",
        "    continue;\n",
        "  else:\n",
        "    break;"
      ],
      "metadata": {
        "colab": {
          "base_uri": "https://localhost:8080/"
        },
        "id": "ZO1VI86u-GvR",
        "outputId": "fda5aed7-eedb-461b-fa20-ac4f820d0f3e"
      },
      "execution_count": null,
      "outputs": [
        {
          "name": "stdout",
          "output_type": "stream",
          "text": [
            "Enter the name of the person you want to greet: rex\n",
            "Happy Diwali rex . Take care!\n",
            "Do you want to continue?y\n",
            "Enter the name of the person you want to greet: mikey\n",
            "Happy Diwali mikey . Take care!\n",
            "Do you want to continue?n\n"
          ]
        }
      ]
    },
    {
      "cell_type": "code",
      "source": [
        "#function to convert DMS to decimal form\n",
        "def toDecimal(degree, minutes, seconds):\n",
        "  decimalform = degree + (minutes/60) + (seconds/3600)\n",
        "  print('The DML to decimal form for Observation is: ', decimalform)\n",
        "\n",
        "\n",
        "def userInput():\n",
        "  print(\"Please enter the values for observation : \")\n",
        "  degree = int(input('Degree: '))\n",
        "  minutes = int(input('Minutes: '))\n",
        "  seconds = int(input( 'Seconds: '))\n",
        "  toDecimal(degree, minutes, seconds);\n",
        "\n",
        "userInput();"
      ],
      "metadata": {
        "colab": {
          "base_uri": "https://localhost:8080/"
        },
        "id": "2W3PTcquCJFp",
        "outputId": "c7f40db8-189e-44dd-be2f-41f82ebe5f1e"
      },
      "execution_count": null,
      "outputs": [
        {
          "output_type": "stream",
          "name": "stdout",
          "text": [
            "Please enter the values for observation : \n",
            "Degree: 12\n",
            "Minutes: 35\n",
            "Seconds: 24\n",
            "The DML to decimal form for Observation 1 is:  12.59\n"
          ]
        }
      ]
    }
  ]
}